{
 "cells": [
  {
   "cell_type": "code",
   "execution_count": 1,
   "id": "45145b29",
   "metadata": {},
   "outputs": [
    {
     "name": "stdout",
     "output_type": "stream",
     "text": [
      "x1     x2      w1     w2      w3      w4      w5    w6    t1       t2      t3     O\n",
      "0       0      1      1       1      -1      -1     1    0.5     -1.5     1.5     0\n",
      "0       1      1      1       1      -1      -1     1    0.5     -1.5     1.5     1\n",
      "1       0      1      1       1      -1      -1     1    0.5     -1.5     1.5     1\n",
      "1       1      1      1       1      -1      -1     1    0.5     -1.5     1.5     0\n"
     ]
    }
   ],
   "source": [
    "from tabulate import tabulate\n",
    "\n",
    "x1 = [0, 0, 1, 1]\n",
    "x2 = [0, 1, 0, 1]\n",
    "w1 = [1, 1, 1, 1]\n",
    "w2 = [1, 1, 1, 1]\n",
    "w3 = [1, 1, 1, 1]\n",
    "w4 = [-1, -1, -1, -1]\n",
    "w5 = [-1, -1, -1, -1]\n",
    "w6 = [1, 1, 1, 1]\n",
    "t1 = [0.5, 0.5, 0.5, 0.5]\n",
    "t2 = [-1.5, -1.5, -1.5, -1.5]\n",
    "t3 = [1.5, 1.5, 1.5, 1.5]\n",
    "\n",
    "def XOR(a, b):\n",
    "    if a != b:\n",
    "        return 1\n",
    "    else:\n",
    "        return 0\n",
    "\n",
    "# Output table\n",
    "print('x1     x2      w1     w2      w3      w4      w5    w6    t1       t2      t3     O')\n",
    "for i in range(len(x1)):\n",
    "    print(x1[i], '     ', x2[i], '    ', w1[i], '    ', w2[i], '     ', w3[i], '    ', w4[i], '    ', w5[i], '   ', w6[i], '  ', t1[i], '   ', t2[i], '   ', t3[i], '   ', XOR(x1[i], x2[i]))\n"
   ]
  },
  {
   "cell_type": "code",
   "execution_count": null,
   "id": "cad26ef1",
   "metadata": {},
   "outputs": [],
   "source": []
  }
 ],
 "metadata": {
  "kernelspec": {
   "display_name": "Python 3 (ipykernel)",
   "language": "python",
   "name": "python3"
  },
  "language_info": {
   "codemirror_mode": {
    "name": "ipython",
    "version": 3
   },
   "file_extension": ".py",
   "mimetype": "text/x-python",
   "name": "python",
   "nbconvert_exporter": "python",
   "pygments_lexer": "ipython3",
   "version": "3.10.7"
  }
 },
 "nbformat": 4,
 "nbformat_minor": 5
}
