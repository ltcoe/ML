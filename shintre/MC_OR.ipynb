{
 "cells": [
  {
   "cell_type": "code",
   "execution_count": 2,
   "id": "edcba2f1",
   "metadata": {},
   "outputs": [
    {
     "name": "stdout",
     "output_type": "stream",
     "text": [
      "Collecting tabulate\n",
      "  Downloading tabulate-0.9.0-py3-none-any.whl.metadata (34 kB)\n",
      "Downloading tabulate-0.9.0-py3-none-any.whl (35 kB)\n",
      "Installing collected packages: tabulate\n",
      "Successfully installed tabulate-0.9.0\n",
      "Note: you may need to restart the kernel to use updated packages.\n"
     ]
    },
    {
     "name": "stderr",
     "output_type": "stream",
     "text": [
      "WARNING: There was an error checking the latest version of pip.\n"
     ]
    }
   ],
   "source": [
    "pip install tabulate"
   ]
  },
  {
   "cell_type": "code",
   "execution_count": 3,
   "id": "0a32fc48",
   "metadata": {},
   "outputs": [
    {
     "name": "stdout",
     "output_type": "stream",
     "text": [
      "x1    x2    w1     w2      t      O\n",
      "0     0      1      1      1      0\n",
      "0     1      1      1      1      1\n",
      "1     0      1      1      1      1\n",
      "1     1      1      1      1      1\n"
     ]
    }
   ],
   "source": [
    "from tabulate import tabulate\n",
    "\n",
    "x1 = [0,0,1,1]\n",
    "x2 = [0,1,0,1]\n",
    "w1 = [1,1,1,1]\n",
    "w2 = [1,1,1,1]\n",
    "t = 1\n",
    "#output\n",
    "print(\"x1    x2    w1     w2      t      O\")\n",
    "for i in range(len(x1)):\n",
    "    if ( x1[i]*w1[i] + x2[i]*w2[i] ) >= t:\n",
    "        print(x1[i],'   ',x2[i],'    ',w1[i],'    ',w2[i],'    ',t,'    ', 1)\n",
    "    else:\n",
    "        print(x1[i],'   ',x2[i],'    ',w1[i],'    ',w2[i],'    ',t,'    ', 0)"
   ]
  },
  {
   "cell_type": "code",
   "execution_count": null,
   "id": "934a2fab-eb30-4a22-a36b-97a8dc8f44da",
   "metadata": {},
   "outputs": [],
   "source": []
  }
 ],
 "metadata": {
  "kernelspec": {
   "display_name": "Python 3 (ipykernel)",
   "language": "python",
   "name": "python3"
  },
  "language_info": {
   "codemirror_mode": {
    "name": "ipython",
    "version": 3
   },
   "file_extension": ".py",
   "mimetype": "text/x-python",
   "name": "python",
   "nbconvert_exporter": "python",
   "pygments_lexer": "ipython3",
   "version": "3.10.7"
  }
 },
 "nbformat": 4,
 "nbformat_minor": 5
}
