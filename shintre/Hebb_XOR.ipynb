{
 "cells": [
  {
   "cell_type": "code",
   "execution_count": 1,
   "id": "22010f16",
   "metadata": {},
   "outputs": [
    {
     "name": "stdout",
     "output_type": "stream",
     "text": [
      "XOR with binary input and binary output\n",
      " INPUT        TARGET     WEIGHT CHANGES WEIGHTS                  \n",
      "                                              ( 0,  0,  0)\n",
      "( 1,  1)  0 ( 0,  0) ( 0,  0,  0)\n",
      "( 1,  0)  1 ( 1,  0) ( 1,  0,  1)\n",
      "( 0,  1)  1 ( 0,  1) ( 1,  1,  2)\n",
      "( 0,  0)  0 ( 0,  0) ( 1,  1,  2)\n"
     ]
    }
   ],
   "source": [
    "def hebbian_learning(samples):\n",
    "    print(f'{\"INPUT\":^8} {\"TARGET\":^16}{\"WEIGHT CHANGES\":^15}{\"WEIGHTS\":25}')\n",
    "    w1, w2, b = 0, 0, 0\n",
    "    print(' ' * 45, f'({w1:2}, {w2:2}, {b:2})')\n",
    "    for x1, x2, y in samples:\n",
    "        w1 = w1 + x1 * y\n",
    "        w2 = w2 + x2 * y\n",
    "        b = b + y\n",
    "        print(f'({x1:2}, {x2:2}) {y: 2} ({x1*y:2}, {x2*y:2}) ({w1:2}, {w2:2}, {b:2})')\n",
    "\n",
    "XOR_samples = {\n",
    "    'binary_input_binary_output': [\n",
    "        [1, 1, 0],\n",
    "        [1, 0, 1],\n",
    "        [0, 1, 1],\n",
    "        [0, 0, 0]\n",
    "    ]\n",
    "}\n",
    "\n",
    "print('XOR with binary input and binary output')\n",
    "hebbian_learning(XOR_samples['binary_input_binary_output'])\n"
   ]
  },
  {
   "cell_type": "code",
   "execution_count": null,
   "id": "41e28db2",
   "metadata": {},
   "outputs": [],
   "source": []
  }
 ],
 "metadata": {
  "kernelspec": {
   "display_name": "Python 3 (ipykernel)",
   "language": "python",
   "name": "python3"
  },
  "language_info": {
   "codemirror_mode": {
    "name": "ipython",
    "version": 3
   },
   "file_extension": ".py",
   "mimetype": "text/x-python",
   "name": "python",
   "nbconvert_exporter": "python",
   "pygments_lexer": "ipython3",
   "version": "3.10.7"
  }
 },
 "nbformat": 4,
 "nbformat_minor": 5
}
