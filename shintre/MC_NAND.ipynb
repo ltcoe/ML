{
 "cells": [
  {
   "cell_type": "code",
   "execution_count": 1,
   "id": "761166a2",
   "metadata": {},
   "outputs": [
    {
     "name": "stdout",
     "output_type": "stream",
     "text": [
      "x1   x2     w1      w2     t     O\n",
      "0     0     -1     -1     -2     1\n",
      "0     1     -1     -1     -2     1\n",
      "1     0     -1     -1     -2     1\n",
      "1     1     -1     -1     -2     0\n"
     ]
    }
   ],
   "source": [
    "from tabulate import tabulate\n",
    "\n",
    "# Define the inputs, weights, and threshold for the AND gate\n",
    "x1 = [0, 0, 1, 1]\n",
    "x2 = [0, 1, 0, 1]\n",
    "w1 = [-1, -1, -1, -1]\n",
    "w2 = [-1, -1, -1, -1]\n",
    "t = -2\n",
    "\n",
    "print(\"x1   x2     w1      w2     t     O\")\n",
    "for i in range(len(x1)):\n",
    "    if (x1[i] * w1[i] + x2[i] * w2[i]) > t:\n",
    "        print(x1[i], '   ', x2[i], '   ', w1[i], '   ', w2[i], '   ', t, '   ', 1)\n",
    "    else:\n",
    "        print(x1[i], '   ', x2[i], '   ', w1[i], '   ', w2[i], '   ', t, '   ', 0)\n"
   ]
  },
  {
   "cell_type": "code",
   "execution_count": null,
   "id": "8444fbed",
   "metadata": {},
   "outputs": [],
   "source": []
  }
 ],
 "metadata": {
  "kernelspec": {
   "display_name": "Python 3 (ipykernel)",
   "language": "python",
   "name": "python3"
  },
  "language_info": {
   "codemirror_mode": {
    "name": "ipython",
    "version": 3
   },
   "file_extension": ".py",
   "mimetype": "text/x-python",
   "name": "python",
   "nbconvert_exporter": "python",
   "pygments_lexer": "ipython3",
   "version": "3.10.7"
  }
 },
 "nbformat": 4,
 "nbformat_minor": 5
}
