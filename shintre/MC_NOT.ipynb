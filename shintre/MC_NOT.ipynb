{
 "cells": [
  {
   "cell_type": "code",
   "execution_count": 2,
   "id": "1a01bbe8",
   "metadata": {},
   "outputs": [
    {
     "name": "stdout",
     "output_type": "stream",
     "text": [
      "x    w   t   O\n",
      "0   -1   0   1\n",
      "1   -1   0   0\n"
     ]
    }
   ],
   "source": [
    "from tabulate import tabulate\n",
    "\n",
    "x = [0, 1]\n",
    "w = [-1, -1]\n",
    "t = 0\n",
    "\n",
    "print(\"x    w   t   O\")\n",
    "for i in range(len(x)):\n",
    "    if (x[i] * w[i]) >= t:\n",
    "        print(x[i], ' ', w[i], ' ', t, ' ', 1)\n",
    "    else:\n",
    "        print(x[i], ' ', w[i], ' ', t, ' ', 0)\n"
   ]
  },
  {
   "cell_type": "code",
   "execution_count": null,
   "id": "6bbbabd9",
   "metadata": {},
   "outputs": [],
   "source": []
  }
 ],
 "metadata": {
  "kernelspec": {
   "display_name": "Python 3 (ipykernel)",
   "language": "python",
   "name": "python3"
  },
  "language_info": {
   "codemirror_mode": {
    "name": "ipython",
    "version": 3
   },
   "file_extension": ".py",
   "mimetype": "text/x-python",
   "name": "python",
   "nbconvert_exporter": "python",
   "pygments_lexer": "ipython3",
   "version": "3.10.7"
  }
 },
 "nbformat": 4,
 "nbformat_minor": 5
}
