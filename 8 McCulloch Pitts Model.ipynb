{
 "cells": [
  {
   "cell_type": "markdown",
   "metadata": {},
   "source": [
    "McCulloch Pitts Model"
   ]
  },
  {
   "cell_type": "code",
   "execution_count": 4,
   "metadata": {},
   "outputs": [],
   "source": [
    "from tabulate import tabulate"
   ]
  },
  {
   "cell_type": "code",
   "execution_count": 5,
   "metadata": {},
   "outputs": [
    {
     "name": "stdout",
     "output_type": "stream",
     "text": [
      "x1 x2 w1 w2 t O\n",
      "0   0   1   1   2   0\n",
      "0   1   1   1   2   0\n",
      "1   0   1   1   2   0\n",
      "1   1   1   1   2   1\n"
     ]
    }
   ],
   "source": [
    "x1 = [0, 0, 1, 1]\n",
    "x2 = [0, 1, 0, 1]\n",
    "w1 = [1, 1, 1, 1]\n",
    "w2 = [1, 1, 1, 1]\n",
    "t = 2\n",
    "print(\"x1 x2 w1 w2 t O\")\n",
    "for i in range(len(x1)):\n",
    "    if ( x1[i]*w1[i] + x2[i]*w2[i] ) >= t:\n",
    "        print(x1[i],' ',x2[i],' ',w1[i],' ',w2[i],' ',t,' ', 1)\n",
    "    else:\n",
    "        print(x1[i],' ',x2[i],' ',w1[i],' ',w2[i],' ',t,' ', 0)"
   ]
  },
  {
   "cell_type": "code",
   "execution_count": 6,
   "metadata": {},
   "outputs": [
    {
     "name": "stdout",
     "output_type": "stream",
     "text": [
      "x1 x2 w1 w2 t O\n",
      "0   0   1   1   1   0\n",
      "0   1   1   1   1   1\n",
      "1   0   1   1   1   1\n",
      "1   1   1   1   1   1\n"
     ]
    }
   ],
   "source": [
    "x1 = [0, 0, 1, 1]\n",
    "x2 = [0, 1, 0, 1]\n",
    "w1 = [1, 1, 1, 1]\n",
    "w2 = [1, 1, 1, 1]\n",
    "t = 1\n",
    "print(\"x1 x2 w1 w2 t O\")\n",
    "for i in range(len(x1)):\n",
    "    if ( x1[i]*w1[i] + x2[i]*w2[i] ) >= t:\n",
    "        print(x1[i],' ',x2[i],' ',w1[i],' ',w2[i],' ',t,' ', 1)\n",
    "    else:\n",
    "        print(x1[i],' ',x2[i],' ',w1[i],' ',w2[i],' ',t,' ', 0)"
   ]
  },
  {
   "cell_type": "code",
   "execution_count": 7,
   "metadata": {},
   "outputs": [
    {
     "name": "stdout",
     "output_type": "stream",
     "text": [
      "x w t O\n",
      "0   -1   0   1\n",
      "1   -1   0   0\n"
     ]
    }
   ],
   "source": [
    "x = [0, 1]\n",
    "w = [-1, -1]\n",
    "t = 0\n",
    "print(\"x w t O\")\n",
    "for i in range(len(x)):\n",
    "    if ( x[i]*w[i] ) >= t:\n",
    "     print(x[i],' ',w[i],' ',t,' ', 1)\n",
    "    else:\n",
    "     print(x[i],' ',w[i],' ',t,' ', 0)"
   ]
  },
  {
   "cell_type": "code",
   "execution_count": 8,
   "metadata": {},
   "outputs": [
    {
     "name": "stdout",
     "output_type": "stream",
     "text": [
      "x1 x2 w1 w2 t O\n",
      "0   0   -1   -1   -2   1\n",
      "0   1   -1   -1   -2   1\n",
      "1   0   -1   -1   -2   1\n",
      "1   1   -1   -1   -2   0\n"
     ]
    }
   ],
   "source": [
    "x1 = [0, 0, 1, 1]\n",
    "x2 = [0, 1, 0, 1]\n",
    "w1 = [-1, -1, -1, -1]\n",
    "w2 = [-1, -1, -1, -1]\n",
    "t = -2\n",
    "print(\"x1 x2 w1 w2 t O\")\n",
    "for i in range(len(x1)):\n",
    "    if ( x1[i]*w1[i] + x2[i]*w2[i] ) > t:\n",
    "        print(x1[i],' ',x2[i],' ',w1[i],' ',w2[i],' ',t,' ', 1)\n",
    "    else:\n",
    "        print(x1[i],' ',x2[i],' ',w1[i],' ',w2[i],' ',t,' ', 0)"
   ]
  },
  {
   "cell_type": "code",
   "execution_count": 9,
   "metadata": {},
   "outputs": [
    {
     "name": "stdout",
     "output_type": "stream",
     "text": [
      "x1 x2 w1 w2 t O\n",
      "0   0   1   1   0   1\n",
      "0   1   1   1   0   0\n",
      "1   0   1   1   0   0\n",
      "1   1   1   1   0   0\n"
     ]
    }
   ],
   "source": [
    "x1 = [0, 0, 1, 1]\n",
    "x2 = [0, 1, 0, 1]\n",
    "w1 = [1, 1, 1, 1]\n",
    "w2 = [1, 1, 1, 1]\n",
    "t = 0\n",
    "print(\"x1 x2 w1 w2 t O\")\n",
    "for i in range(len(x1)):\n",
    "    if ( x1[i]*w1[i] + x2[i]*w2[i] ) <= t:\n",
    "        print(x1[i],' ',x2[i],' ',w1[i],' ',w2[i],' ',t,' ', 1)\n",
    "    else:\n",
    "        print(x1[i],' ',x2[i],' ',w1[i],' ',w2[i],' ',t,' ', 0)"
   ]
  },
  {
   "cell_type": "code",
   "execution_count": 11,
   "metadata": {},
   "outputs": [
    {
     "name": "stdout",
     "output_type": "stream",
     "text": [
      "x1 x2 w1 w2 w3 w4 w5 w6 t1 t2 t3 O\n",
      "0   0   1   1   1   -1   -1   1   0.5   -1.5   1.5   0\n",
      "0   1   1   1   1   -1   -1   1   0.5   -1.5   1.5   1\n",
      "1   0   1   1   1   -1   -1   1   0.5   -1.5   1.5   1\n",
      "1   1   1   1   1   -1   -1   1   0.5   -1.5   1.5   0\n"
     ]
    }
   ],
   "source": [
    "x1 = [0, 0, 1, 1]\n",
    "x2 = [0, 1, 0, 1]\n",
    "w1 = [1, 1, 1, 1]\n",
    "w2 = [1, 1, 1, 1]\n",
    "w3 = [1, 1, 1, 1]\n",
    "w4 = [-1, -1, -1, -1]\n",
    "w5 = [-1, -1, -1, -1]\n",
    "w6 = [1, 1, 1, 1]\n",
    "t1 = [0.5, 0.5, 0.5, 0.5]\n",
    "t2 = [-1.5, -1.5, -1.5, -1.5]\n",
    "t3 = [1.5, 1.5, 1.5, 1.5]\n",
    "def XOR (a, b):\n",
    "    if a != b:\n",
    "        return 1\n",
    "    else:\n",
    "        return 0\n",
    "    \n",
    "print(\"x1 x2 w1 w2 w3 w4 w5 w6 t1 t2 t3 O\")\n",
    "for i in range(len(x1)):\n",
    "    print(x1[i],' ',x2[i],' ',w1[i],' ',w2[i],' ',w3[i],' ',w4[i],' ',\n",
    "        w5[i],' ',w6[i],' ',t1[i],' ',t2[i],' ', t3[i],' ',\n",
    "        XOR (x1[i], x2[i]))"
   ]
  },
  {
   "cell_type": "code",
   "execution_count": null,
   "metadata": {},
   "outputs": [],
   "source": []
  }
 ],
 "metadata": {
  "kernelspec": {
   "display_name": "Python 3",
   "language": "python",
   "name": "python3"
  },
  "language_info": {
   "codemirror_mode": {
    "name": "ipython",
    "version": 3
   },
   "file_extension": ".py",
   "mimetype": "text/x-python",
   "name": "python",
   "nbconvert_exporter": "python",
   "pygments_lexer": "ipython3",
   "version": "3.11.1"
  }
 },
 "nbformat": 4,
 "nbformat_minor": 2
}
